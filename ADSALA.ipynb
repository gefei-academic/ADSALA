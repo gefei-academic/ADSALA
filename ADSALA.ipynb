{
 "cells": [
  {
   "cell_type": "markdown",
   "metadata": {},
   "source": [
    "<h1>Project brief</h1>\n",
    "\n",
    "Our goal is to optimize the execution time of matrix multiplications (MM) under the following constraints:\n",
    "1. Machine architecture\n",
    "2. Available BLAS (MM) libraries\n",
    "3. Structure of the involved matrices\n",
    "\n",
    "For the time being, we will assume that we deal with a shared-memory parallel computer with *N* CPUs, where each CPU has *n* cores. \n",
    "\n",
    "More specifically, for a given machine, set of MM libraries and structures of the involved matrices, we would like to choose the combination of the library and number of cores which minimises execution time. <ins> This can be treated as a machine learning classification problem. </ins>\n",
    "\n",
    "Initially, we need  carry out a literature review. <br/>\n",
    "Has anyone done this before (not really ...)?<br/>\n",
    "If not, what has been achieved before?<br/>\n",
    "What are the latest performance benchmarks for matrix multiplications?<br/>\n",
    "\n",
    "There are certainly papers that compare the performance of different BLAS (matrix multiplication) libraries on specific hardware. Have a detailed literature search on this.\n",
    "\n",
    "The literature review will constitute our foundation for demonstrating the need of the research we are undertaking.\n",
    "\n",
    "After the literature review is done, we need to generate benchmark data that will be used to:\n",
    "1. Identify the features needed for ML classification\n",
    "2. Identify the most suited classification method (CART trees, random forest, etc.)\n",
    "3. Generate our training and validation data sets, therefore training and validating the model.\n",
    "\n",
    "Here are some of the parameters to explore.\n",
    "\n",
    "<b>Dimension of matrices</b><br/>\n",
    "We want to multiply two matrices and obtain a third<br/>\n",
    "\\begin{equation}\n",
    "    \\mathbf{A} \\mathbf{B} = \\mathbf{C}\n",
    "\\end{equation}\n",
    "\n",
    "where, $\\mathbf{A}$ is an $N \\times M$, $\\mathbf{B}$ is $M \\times L$ and $\\mathbf{C}$ is $N \\times L$. Therefore, in general we have 3 parameters associated with the matrix dimensions.\n",
    "\n",
    "<b>Sparsity.</b><br/>\n",
    "How many zeros are in $\\mathbf{A}$ and $\\mathbf{B}$?<br/> \n",
    "Do the nonzero elements have some particular structures (e.g. the are all on the diagonal of $\\mathbf{A}$ and $\\mathbf{B}$)?<br/> \n",
    "How do we figure out if a matrix is sparse and which sparse structure has?<br/> \n",
    "We need to do a literature search to check whether mathematicians have already solved this problem!\n",
    "\n",
    "<b>Number of processors.</b><br/> \n",
    "Ideally the number of processors (cores) should be an output, but in a first instance we can treat it as a feature for classification.\n",
    "\n",
    "A couple of packages that we could use for the generation of the ML model: Scikit(SK)-learn, PyTorch. \n",
    "\n",
    "<h1>General Notes</h1>\n",
    "\n",
    "You want to keep track of all the progress you are making. This will help you write your thesis. In order to do so, I suggest you use the Jupiter notebooks and set up a GitHub repository shared with me.\n",
    "\n",
    "You also want to jot down a schedule: what is your plan week by week. This must be done as soon as possible and I would like to have a copy of it."
   ]
  }
 ],
 "metadata": {
  "kernelspec": {
   "display_name": "Python 3",
   "language": "python",
   "name": "python3"
  },
  "language_info": {
   "codemirror_mode": {
    "name": "ipython",
    "version": 3
   },
   "file_extension": ".py",
   "mimetype": "text/x-python",
   "name": "python",
   "nbconvert_exporter": "python",
   "pygments_lexer": "ipython3",
   "version": "3.7.3"
  }
 },
 "nbformat": 4,
 "nbformat_minor": 4
}
